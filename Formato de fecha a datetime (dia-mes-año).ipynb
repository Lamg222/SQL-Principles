{
 "cells": [
  {
   "cell_type": "code",
   "execution_count": 1,
   "id": "c24b9b2a-fa4a-4470-8ba8-bc7d484586a2",
   "metadata": {},
   "outputs": [],
   "source": [
    "import pandas as pd"
   ]
  },
  {
   "cell_type": "code",
   "execution_count": 2,
   "id": "fd47a850-a4fa-401a-8848-c2e560bf2e21",
   "metadata": {},
   "outputs": [],
   "source": [
    "ruta_archivo = r\"E:\\SQL\\Bases de datos Aprende el lenguaje SQL desde cero\\4. Las Sentencias Básicas de SQL\\2. PODateTime-220809-110102.csv\""
   ]
  },
  {
   "cell_type": "code",
   "execution_count": 3,
   "id": "70013ebd-fc7f-439e-aaea-c50a02e45263",
   "metadata": {},
   "outputs": [],
   "source": [
    "df = pd.read_csv(ruta_archivo)"
   ]
  },
  {
   "cell_type": "code",
   "execution_count": 4,
   "id": "a6c2c5db-febc-4772-972b-b9991dc24bc1",
   "metadata": {},
   "outputs": [
    {
     "data": {
      "text/plain": [
       "Index(['PurchaseOrderNumber', 'DateTime'], dtype='object')"
      ]
     },
     "execution_count": 4,
     "metadata": {},
     "output_type": "execute_result"
    }
   ],
   "source": [
    "df.columns"
   ]
  },
  {
   "cell_type": "code",
   "execution_count": 7,
   "id": "d467b84a-9914-4594-b455-c31298b4d0da",
   "metadata": {},
   "outputs": [
    {
     "data": {
      "text/plain": [
       "dtype('O')"
      ]
     },
     "execution_count": 7,
     "metadata": {},
     "output_type": "execute_result"
    }
   ],
   "source": [
    "df['DateTime'].dtype"
   ]
  },
  {
   "cell_type": "code",
   "execution_count": 8,
   "id": "357d8611-d76b-4345-9a8a-13f16cf6b08a",
   "metadata": {},
   "outputs": [],
   "source": [
    "# Cambiamos el formato de la columna que contiene los datos de fecha\n",
    "df['DateTime'] = pd.to_datetime(df['DateTime'])"
   ]
  },
  {
   "cell_type": "code",
   "execution_count": 10,
   "id": "d80cb6e8-aab9-4b41-badd-40c15b388983",
   "metadata": {},
   "outputs": [
    {
     "data": {
      "text/plain": [
       "dtype('<M8[ns]')"
      ]
     },
     "execution_count": 10,
     "metadata": {},
     "output_type": "execute_result"
    }
   ],
   "source": [
    "df['DateTime'].dtype"
   ]
  },
  {
   "cell_type": "code",
   "execution_count": 16,
   "id": "cb69a420-0c00-48bf-aafe-293bf6febc37",
   "metadata": {},
   "outputs": [],
   "source": [
    "ruta_archivo_fin = r\"E:\\SQL\\Bases de datos Aprende el lenguaje SQL desde cero\\4. Las Sentencias Básicas de SQL\""
   ]
  },
  {
   "cell_type": "code",
   "execution_count": 17,
   "id": "04874b13-e7f0-4f1c-80f1-b7d1b7141ebf",
   "metadata": {},
   "outputs": [],
   "source": [
    "# Exportamos el archivo como un CSV\n",
    "df.to_csv(ruta_archivo_fin + '\\PODateTime1.csv', index=False)"
   ]
  }
 ],
 "metadata": {
  "kernelspec": {
   "display_name": "Python 3 (ipykernel)",
   "language": "python",
   "name": "python3"
  },
  "language_info": {
   "codemirror_mode": {
    "name": "ipython",
    "version": 3
   },
   "file_extension": ".py",
   "mimetype": "text/x-python",
   "name": "python",
   "nbconvert_exporter": "python",
   "pygments_lexer": "ipython3",
   "version": "3.11.7"
  }
 },
 "nbformat": 4,
 "nbformat_minor": 5
}
